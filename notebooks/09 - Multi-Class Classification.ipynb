{
 "cells": [
  {
   "cell_type": "markdown",
   "metadata": {},
   "source": [
    "# Multi-Class Classification\n",
    "\n",
    "To this point, we have focused on two-class classification.  This is the most common style, but there are scenarios in which two-class classification is not sufficient.  In this library, we will try out a variety of classification algorithms and see how they perform against this multi-class dataset.  We'll also see what changes, if any, we need to make this work.\n",
    "\n",
    "## Prep Work\n",
    "\n",
    "Before importing any classifier libraries, let's load our helper libraries and import the dataset for review."
   ]
  },
  {
   "cell_type": "code",
   "execution_count": null,
   "metadata": {},
   "outputs": [],
   "source": [
    "import numpy as np\n",
    "import pandas as pd\n",
    "from sklearn import preprocessing\n",
    "from sklearn.model_selection import train_test_split\n",
    "from sklearn.metrics import accuracy_score, confusion_matrix, ConfusionMatrixDisplay, classification_report\n",
    "import matplotlib as mpl\n",
    "\n",
    "mpl.rcParams['figure.dpi'] = 100"
   ]
  },
  {
   "cell_type": "markdown",
   "metadata": {},
   "source": [
    "Now let's prep the data.  Because we'll do it the same way for each, we only need to do this once."
   ]
  },
  {
   "cell_type": "code",
   "execution_count": null,
   "metadata": {},
   "outputs": [],
   "source": [
    "bean_data = \"../data/Dry_Bean_Dataset.csv\"\n",
    "df = pd.read_csv(bean_data, header=0)\n",
    "df"
   ]
  },
  {
   "cell_type": "markdown",
   "metadata": {},
   "source": [
    "This is a clean dataset, as all of our input features are numeric.  The class itself is not numeric, but that's okay--we won't need to make any changes there."
   ]
  },
  {
   "cell_type": "markdown",
   "metadata": {},
   "source": [
    "## Pre-Processing\n",
    "\n",
    "The only pre-processing we'll need to do for most algorithms is to create our `X` and `y` sets, split, and go.  Certain algorithms, such as XGBoost, require numeric labels, but we'll handle this as we go along."
   ]
  },
  {
   "cell_type": "code",
   "execution_count": null,
   "metadata": {},
   "outputs": [],
   "source": [
    "y = df['Class']\n",
    "X = df.drop(['Class'], axis=1)\n",
    "\n",
    "X_train, X_test, y_train, y_test = train_test_split(X, y, test_size=0.30, random_state=1740)\n",
    "\n",
    "X_train"
   ]
  },
  {
   "cell_type": "markdown",
   "metadata": {},
   "source": [
    "## Classification Showdown\n",
    "\n",
    "Now we're going to try out all of these algorithms we've used in a proper showdown.  Because this is a more complex problem than some of the ones we've looked at, we'll end up seeing a larger variance in scores between algorithms.  Note that any conclusions we can draw are around *this* dataset, not necessarily an indictment of any algorithm in particular.\n",
    "\n",
    "### CART\n",
    "\n",
    "The first algorithm we'll look at is CART."
   ]
  },
  {
   "cell_type": "code",
   "execution_count": null,
   "metadata": {},
   "outputs": [],
   "source": [
    "from sklearn import tree\n",
    "clf_cart = tree.DecisionTreeClassifier(random_state=106)\n",
    "clf_cart = clf_cart.fit(X_train, y_train)\n",
    "predicted_cart = clf_cart.predict(X_test)\n",
    "accuracy_score(y_test, predicted_cart)"
   ]
  },
  {
   "cell_type": "code",
   "execution_count": null,
   "metadata": {},
   "outputs": [],
   "source": [
    "cm_cart = confusion_matrix(y_test, predicted_cart)\n",
    "ConfusionMatrixDisplay(cm_cart).plot()"
   ]
  },
  {
   "cell_type": "code",
   "execution_count": null,
   "metadata": {},
   "outputs": [],
   "source": [
    "print(classification_report(y_test, predicted_cart))"
   ]
  },
  {
   "cell_type": "markdown",
   "metadata": {},
   "source": [
    "CART does a great job with accuracy and is a solid answer across the board.\n",
    "\n",
    "### Random Forest\n",
    "\n",
    "Our next algorithm is random forest."
   ]
  },
  {
   "cell_type": "code",
   "execution_count": null,
   "metadata": {},
   "outputs": [],
   "source": [
    "from sklearn import ensemble\n",
    "clf_rf = ensemble.RandomForestClassifier(random_state=106)\n",
    "clf_rf = clf_rf.fit(X_train, y_train)\n",
    "predicted_rf = clf_rf.predict(X_test)\n",
    "accuracy_score(y_test, predicted_rf)"
   ]
  },
  {
   "cell_type": "code",
   "execution_count": null,
   "metadata": {},
   "outputs": [],
   "source": [
    "cm_rf = confusion_matrix(y_test, predicted_rf)\n",
    "ConfusionMatrixDisplay(cm_rf).plot()"
   ]
  },
  {
   "cell_type": "code",
   "execution_count": null,
   "metadata": {},
   "outputs": [],
   "source": [
    "print(classification_report(y_test, predicted_rf))"
   ]
  },
  {
   "cell_type": "markdown",
   "metadata": {},
   "source": [
    "Random forest, as we'd expect, does even better than CART.\n",
    "\n",
    "### XGBoost\n",
    "\n",
    "Our next algorithm is XGBoost.  XGBoost **does** require numerical labels, so we'll need to use encoded labels.  Previously, we've used the `LabelEncoder` to build this, but here we'll rig something simple."
   ]
  },
  {
   "cell_type": "code",
   "execution_count": null,
   "metadata": {},
   "outputs": [],
   "source": [
    "def rickety_encoder(grain):\n",
    "    if grain == \"BARBUNYA\":\n",
    "        return 0\n",
    "    elif grain == \"BOMBAY\":\n",
    "        return 1\n",
    "    elif grain == \"CALI\":\n",
    "        return 2\n",
    "    elif grain == \"DERMASON\":\n",
    "        return 3\n",
    "    elif grain == \"HOROZ\":\n",
    "        return 4\n",
    "    elif grain == \"SEKER\":\n",
    "        return 5\n",
    "    elif grain == \"SIRA\":\n",
    "        return 6\n",
    "\n",
    "y_train_enc = list(map(rickety_encoder, y_train))\n",
    "y_test_enc = list(map(rickety_encoder, y_test))"
   ]
  },
  {
   "cell_type": "markdown",
   "metadata": {},
   "source": [
    "Now that we've encoded our training and test labels, let's perform our tests."
   ]
  },
  {
   "cell_type": "code",
   "execution_count": null,
   "metadata": {},
   "outputs": [],
   "source": [
    "import xgboost as xgb\n",
    "clf_xgb = xgb.XGBClassifier(max_depth=9, n_estimators=300, use_label_encoder=False, eval_metric='logloss', random_state=106)\n",
    "clf_xgb = clf_xgb.fit(X_train, y_train_enc)\n",
    "predicted_xgb = clf_xgb.predict(X_test)\n",
    "accuracy_score(y_test_enc, predicted_xgb)"
   ]
  },
  {
   "cell_type": "markdown",
   "metadata": {},
   "source": [
    "Accuracy is slightly better than random forest, but in order to see the same confusion matrix, we'll need to build another rickety conversion function to get back to where we were."
   ]
  },
  {
   "cell_type": "code",
   "execution_count": null,
   "metadata": {},
   "outputs": [],
   "source": [
    "def rickety_decoder(grain):\n",
    "    if grain == 0:\n",
    "        return \"BARBUNYA\"\n",
    "    elif grain == 1:\n",
    "        return \"BOMBAY\"\n",
    "    elif grain == 2:\n",
    "        return \"CALI\"\n",
    "    elif grain == 3:\n",
    "        return \"DERMASON\"\n",
    "    elif grain == 4:\n",
    "        return \"HOROZ\"\n",
    "    elif grain == 5:\n",
    "        return \"SEKER\"\n",
    "    elif grain == 6:\n",
    "        return \"SIRA\"\n",
    "\n",
    "predicted_xgb_dec = list(map(rickety_decoder, predicted_xgb))\n"
   ]
  },
  {
   "cell_type": "markdown",
   "metadata": {},
   "source": [
    "Now let's see how it performs."
   ]
  },
  {
   "cell_type": "code",
   "execution_count": null,
   "metadata": {},
   "outputs": [],
   "source": [
    "cm_xgb = confusion_matrix(y_test, predicted_xgb_dec)\n",
    "ConfusionMatrixDisplay(cm_xgb).plot()"
   ]
  },
  {
   "cell_type": "code",
   "execution_count": null,
   "metadata": {},
   "outputs": [],
   "source": [
    "print(classification_report(y_test, predicted_xgb_dec))"
   ]
  },
  {
   "cell_type": "markdown",
   "metadata": {},
   "source": [
    "The results are extremely close to our random forest, but tend to be slightly better.  It looks like SIRA is the toughest to predict.\n",
    "\n",
    "### K-Nearest Neighbors\n",
    "\n",
    "Our next algorithm is k-Nearest Neighbors."
   ]
  },
  {
   "cell_type": "code",
   "execution_count": null,
   "metadata": {},
   "outputs": [],
   "source": [
    "from sklearn.neighbors import KNeighborsClassifier\n",
    "clf_knn = KNeighborsClassifier(n_neighbors=5)\n",
    "clf_knn = clf_knn.fit(X_train, y_train)\n",
    "predicted_knn = clf_knn.predict(X_test)\n",
    "accuracy_score(y_test, predicted_knn)"
   ]
  },
  {
   "cell_type": "markdown",
   "metadata": {},
   "source": [
    "This is a pretty big drop-off from the tree-based algorithms, and the results are fairly stable for several values of k."
   ]
  },
  {
   "cell_type": "code",
   "execution_count": null,
   "metadata": {},
   "outputs": [],
   "source": [
    "cm_knn = confusion_matrix(y_test, predicted_knn)\n",
    "ConfusionMatrixDisplay(cm_knn).plot()"
   ]
  },
  {
   "cell_type": "code",
   "execution_count": null,
   "metadata": {},
   "outputs": [],
   "source": [
    "print(classification_report(y_test, predicted_knn))"
   ]
  },
  {
   "cell_type": "markdown",
   "metadata": {},
   "source": [
    "We can see that there's a big dropoff in almost everything except for Bombay.\n",
    "\n",
    "#### PCA\n",
    "\n",
    "My conjecture is that we're suffering from the curse of dimensonality here. What happens if we apply a Principal Component Analysis to this dataset?\n",
    "\n",
    "The first step is to rescale our data so that all inputs are normalized to the same scale."
   ]
  },
  {
   "cell_type": "code",
   "execution_count": null,
   "metadata": {},
   "outputs": [],
   "source": [
    "from sklearn.preprocessing import StandardScaler\n",
    "\n",
    "X_pca = df.drop(['Class'], axis=1)\n",
    "X_pca = StandardScaler().fit_transform(X_pca)"
   ]
  },
  {
   "cell_type": "markdown",
   "metadata": {},
   "source": [
    "Then we perform the PCA operation."
   ]
  },
  {
   "cell_type": "code",
   "execution_count": null,
   "metadata": {},
   "outputs": [],
   "source": [
    "from sklearn.decomposition import PCA\n",
    "pca_beans = PCA(n_components=3)\n",
    "pc_beans = pca_beans.fit_transform(X_pca)"
   ]
  },
  {
   "cell_type": "markdown",
   "metadata": {},
   "source": [
    "The `pc_beans` input contains our three principal components."
   ]
  },
  {
   "cell_type": "code",
   "execution_count": null,
   "metadata": {},
   "outputs": [],
   "source": [
    "pc_beans"
   ]
  },
  {
   "cell_type": "markdown",
   "metadata": {},
   "source": [
    "Now we can use `pc_beans` as the X for training."
   ]
  },
  {
   "cell_type": "code",
   "execution_count": null,
   "metadata": {},
   "outputs": [],
   "source": [
    "X_train_pca, X_test_pca, y_train_pca, y_test_pca = train_test_split(pc_beans, y, test_size=0.30, random_state=1740)\n",
    "\n",
    "X_train_pca"
   ]
  },
  {
   "cell_type": "markdown",
   "metadata": {},
   "source": [
    "Now let's run the analysis again. Note that number of neighbors has gone **way** up. I'd actually be concerned about this many neighbors, but our training dataset size is over 9000, so we're just drawing large neighborhoods. In practical terms, `n=23` is close enough to the max and a much more reasonable number, but then we wouldn't have 101 dalmations."
   ]
  },
  {
   "cell_type": "code",
   "execution_count": null,
   "metadata": {},
   "outputs": [],
   "source": [
    "from sklearn.neighbors import KNeighborsClassifier\n",
    "clf_knn = KNeighborsClassifier(n_neighbors=101)\n",
    "clf_knn = clf_knn.fit(X_train_pca, y_train_pca)\n",
    "predicted_knn = clf_knn.predict(X_test_pca)\n",
    "accuracy_score(y_test_pca, predicted_knn)"
   ]
  },
  {
   "cell_type": "markdown",
   "metadata": {},
   "source": [
    "Still not great, but considerably better than before!"
   ]
  },
  {
   "cell_type": "code",
   "execution_count": null,
   "metadata": {},
   "outputs": [],
   "source": [
    "cm_knn = confusion_matrix(y_test, predicted_knn)\n",
    "ConfusionMatrixDisplay(cm_knn).plot()"
   ]
  },
  {
   "cell_type": "code",
   "execution_count": null,
   "metadata": {},
   "outputs": [],
   "source": [
    "print(classification_report(y_test, predicted_knn))"
   ]
  },
  {
   "cell_type": "markdown",
   "metadata": {},
   "source": [
    "### Logistic Regression\n",
    "\n",
    "Our next algorithm is logistic regression."
   ]
  },
  {
   "cell_type": "code",
   "execution_count": null,
   "metadata": {},
   "outputs": [],
   "source": [
    "from sklearn.linear_model import LogisticRegression\n",
    "clf_lr = LogisticRegression(max_iter=10000)\n",
    "clf_lr = clf_lr.fit(X_train, y_train)\n",
    "predicted_lr = clf_lr.predict(X_test)\n",
    "accuracy_score(y_test, predicted_lr)"
   ]
  },
  {
   "cell_type": "markdown",
   "metadata": {},
   "source": [
    "Accuracy is back on track.  Here, accuracy is worse than random forest or XGBoost but better than CART."
   ]
  },
  {
   "cell_type": "code",
   "execution_count": null,
   "metadata": {},
   "outputs": [],
   "source": [
    "cm_lr = confusion_matrix(y_test, predicted_lr)\n",
    "ConfusionMatrixDisplay(cm_lr).plot()"
   ]
  },
  {
   "cell_type": "code",
   "execution_count": null,
   "metadata": {},
   "outputs": [],
   "source": [
    "print(classification_report(y_test, predicted_lr))"
   ]
  },
  {
   "cell_type": "markdown",
   "metadata": {},
   "source": [
    "Logistic regression does a rather good job of it.  It doesn't do terribly on any of the classes, though like everything else, it has difficulties with Sira.\n",
    "\n",
    "### Naive Bayes\n",
    "\n",
    "Our next algorithm is multinomial Naive Bayes.  `CategoricalNB` is for cases where we have categorical input data, but all of our features are numeric.  Because of that, we can use a different variant of Naive Bayes.  The best-fit classifier for Naive Bayes in scikit-learn, in our case, is the multinomial classifier."
   ]
  },
  {
   "cell_type": "code",
   "execution_count": null,
   "metadata": {},
   "outputs": [],
   "source": [
    "from sklearn.naive_bayes import MultinomialNB\n",
    "clf_nb = MultinomialNB(alpha=1)\n",
    "clf_nb = clf_nb.fit(X_train, y_train)\n",
    "predicted_nb = clf_nb.predict(X_test)\n",
    "accuracy_score(y_test, predicted_nb)"
   ]
  },
  {
   "cell_type": "markdown",
   "metadata": {},
   "source": [
    "This is a little better than kNN, but way below the trees or logistic regression."
   ]
  },
  {
   "cell_type": "code",
   "execution_count": null,
   "metadata": {},
   "outputs": [],
   "source": [
    "cm_nb = confusion_matrix(y_test, predicted_nb)\n",
    "ConfusionMatrixDisplay(cm_nb).plot()"
   ]
  },
  {
   "cell_type": "code",
   "execution_count": null,
   "metadata": {},
   "outputs": [],
   "source": [
    "print(classification_report(y_test, predicted_nb))"
   ]
  },
  {
   "cell_type": "markdown",
   "metadata": {},
   "source": [
    "Bombay still appears to be easily separable, but for the rest of them, values are worse across the board. And PCA isn't a good call here because multinomial Naive Bayes requires all values be positive."
   ]
  },
  {
   "cell_type": "markdown",
   "metadata": {},
   "source": [
    "### Passive-Aggressive\n",
    "\n",
    "Our next algorithm is passive-aggressive classification."
   ]
  },
  {
   "cell_type": "code",
   "execution_count": null,
   "metadata": {},
   "outputs": [],
   "source": [
    "from sklearn.linear_model import PassiveAggressiveClassifier\n",
    "\n",
    "clf_pa = PassiveAggressiveClassifier(C=1.0, max_iter=3000, random_state=1740)\n",
    "clf_pa = clf_pa.fit(X_train, y_train)\n",
    "predicted_pa = clf_pa.predict(X_test)\n",
    "accuracy_score(y_test, predicted_pa)\n"
   ]
  },
  {
   "cell_type": "markdown",
   "metadata": {},
   "source": [
    "Wow, what a drop-off!  Passive-Aggressive classifiers often give you great outcomes, but in this case, it's a dog."
   ]
  },
  {
   "cell_type": "code",
   "execution_count": null,
   "metadata": {},
   "outputs": [],
   "source": [
    "cm_pa = confusion_matrix(y_test, predicted_pa)\n",
    "ConfusionMatrixDisplay(cm_pa).plot()"
   ]
  },
  {
   "cell_type": "markdown",
   "metadata": {},
   "source": [
    "This visualization helps us see what's going wrong:  it looks like the passive-aggressive classifier has become so focused on Dermason that it completely overwhelms Horoz and Seker."
   ]
  },
  {
   "cell_type": "code",
   "execution_count": null,
   "metadata": {},
   "outputs": [],
   "source": [
    "print(classification_report(y_test, predicted_pa))"
   ]
  },
  {
   "cell_type": "markdown",
   "metadata": {},
   "source": [
    "We can see the same pattern here as we've seen all along, where Bombay is easy and Sira is tough.  Barbunya typically isn't that tough, but passive-aggressive is struggling in our scenario.\n",
    "\n",
    "But what if we try against the PCA dataset?"
   ]
  },
  {
   "cell_type": "code",
   "execution_count": null,
   "metadata": {},
   "outputs": [],
   "source": [
    "from sklearn.linear_model import PassiveAggressiveClassifier\n",
    "\n",
    "clf_pa = PassiveAggressiveClassifier(C=1.0, max_iter=3000, random_state=1740)\n",
    "clf_pa = clf_pa.fit(X_train_pca, y_train_pca)\n",
    "predicted_pa = clf_pa.predict(X_test_pca)\n",
    "accuracy_score(y_test_pca, predicted_pa)"
   ]
  },
  {
   "cell_type": "code",
   "execution_count": null,
   "metadata": {},
   "outputs": [],
   "source": [
    "cm_pa = confusion_matrix(y_test, predicted_pa)\n",
    "ConfusionMatrixDisplay(cm_pa).plot()"
   ]
  },
  {
   "cell_type": "code",
   "execution_count": null,
   "metadata": {},
   "outputs": [],
   "source": [
    "print(classification_report(y_test, predicted_pa))"
   ]
  },
  {
   "cell_type": "markdown",
   "metadata": {},
   "source": [
    "Better, but still not good: we have zero predictions for Bombay and none of our classes meet CART's not-so-lofty F1 scores.\n",
    "\n",
    "The moral of the story is, don't limit yourself to just one classifier!"
   ]
  },
  {
   "cell_type": "code",
   "execution_count": null,
   "metadata": {},
   "outputs": [],
   "source": []
  }
 ],
 "metadata": {
  "interpreter": {
   "hash": "4905652b14e4b7eb92899b78ac499a22c488804455b27940a322fd82aaf71031"
  },
  "kernelspec": {
   "display_name": "Python 3 (ipykernel)",
   "language": "python",
   "name": "python3"
  },
  "language_info": {
   "codemirror_mode": {
    "name": "ipython",
    "version": 3
   },
   "file_extension": ".py",
   "mimetype": "text/x-python",
   "name": "python",
   "nbconvert_exporter": "python",
   "pygments_lexer": "ipython3",
   "version": "3.10.9"
  }
 },
 "nbformat": 4,
 "nbformat_minor": 2
}
